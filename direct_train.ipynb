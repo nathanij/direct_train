{
  "cells": [
    {
      "cell_type": "markdown",
      "metadata": {
        "id": "v3dun9PuWne1"
      },
      "source": [
        "Use cityscapes dataset, trains directly on damaged images."
      ]
    },
    {
      "cell_type": "markdown",
      "metadata": {
        "id": "fkgOXuCYeqdh"
      },
      "source": [
        "Beginning with U-net architecture, will explore other as well."
      ]
    },
    {
      "cell_type": "code",
      "execution_count": null,
      "metadata": {
        "id": "0BTt2OmoWrzX"
      },
      "outputs": [],
      "source": [
        "import os\n",
        "from PIL import Image\n",
        "import numpy as np\n",
        "from torch.utils.data import Dataset, DataLoader\n",
        "import matplotlib.pyplot as plt\n",
        "import torch\n",
        "import torchvision\n",
        "from glob import glob\n",
        "import torch.nn as nn\n",
        "from tqdm import tqdm\n",
        "import torch.nn.functional as F\n",
        "import torchvision.transforms as transform\n",
        "from torch.utils.data import DataLoader,Dataset\n",
        "\n",
        "#dataset: https://www.kaggle.com/datasets/dansbecker/cityscapes-image-pairs/data\n",
        "\n",
        "class CityscapesDataset(Dataset):\n",
        "    def __init__(self, image_dir, cut_half = True, transform = None):\n",
        "        self.image_dir = image_dir\n",
        "        self.imgs = os.listdir(image_dir)\n",
        "\n",
        "        self.cut_half = cut_half\n",
        "        self.transforms = transform\n",
        "\n",
        "    def __len__(self):\n",
        "        return len(self.imgs)\n",
        "\n",
        "    def __getitem__(self, idx):\n",
        "        img_mask = Image.open(os.path.join(self.image_dir, self.imgs[idx]))\n",
        "        if self.cut_half:\n",
        "            x_width, y_height = img_mask.size\n",
        "            split = x_width / 2\n",
        "\n",
        "            img = img_mask.crop((0, 0, split, y_height))\n",
        "\n",
        "            mask = img_mask.crop((split, 0, split + split, y_height))\n",
        "\n",
        "            if self.transforms:\n",
        "                img = self.transforms(img)\n",
        "                mask = self.transforms(mask)\n",
        "\n",
        "            return img, mask\n",
        "\n",
        "        return img_mask\n"
      ]
    },
    {
      "cell_type": "code",
      "source": [],
      "metadata": {
        "id": "27fbg8WT58p1"
      },
      "execution_count": null,
      "outputs": []
    },
    {
      "cell_type": "code",
      "source": [
        "from google.colab import drive\n",
        "drive.mount('/content/drive')"
      ],
      "metadata": {
        "colab": {
          "base_uri": "https://localhost:8080/"
        },
        "id": "kxgdIBu76CZT",
        "outputId": "673d75e2-f0bf-428c-fb5a-841a4d934116"
      },
      "execution_count": null,
      "outputs": [
        {
          "output_type": "stream",
          "name": "stdout",
          "text": [
            "Mounted at /content/drive\n"
          ]
        }
      ]
    },
    {
      "cell_type": "code",
      "execution_count": null,
      "metadata": {
        "colab": {
          "base_uri": "https://localhost:8080/"
        },
        "id": "GY-amT9CIt7L",
        "outputId": "72d8c95b-f9cc-43c3-9355-0606f54634b8"
      },
      "outputs": [
        {
          "output_type": "stream",
          "name": "stdout",
          "text": [
            "2975 93 500\n"
          ]
        }
      ],
      "source": [
        "transform_init = transform.Compose([\n",
        "    transform.ToTensor()\n",
        "])\n",
        "\n",
        "# NEED TO SWITCH THIS\n",
        "# SO THAT THEY ARE ALL EITHER SNOWY, RAINY, etc.\n",
        "\n",
        "dataset = CityscapesDataset(image_dir='/content/drive/MyDrive/cityscapes_data/train', cut_half=True, transform=transform_init)\n",
        "val_dataset = CityscapesDataset(image_dir='/content/drive/MyDrive/cityscapes_data/val', cut_half=True, transform=transform_init)\n",
        "dataloader = DataLoader(dataset, batch_size=32, shuffle=True)\n",
        "valloader = DataLoader(val_dataset)\n",
        "print(len(dataset), len(dataloader), len(valloader))"
      ]
    },
    {
      "cell_type": "code",
      "execution_count": null,
      "metadata": {
        "colab": {
          "base_uri": "https://localhost:8080/"
        },
        "id": "Pxrb_v9EhpgJ",
        "outputId": "0f7eaf66-1e5e-4a8e-c328-c22aab7ba076"
      },
      "outputs": [
        {
          "output_type": "execute_result",
          "data": {
            "text/plain": [
              "True"
            ]
          },
          "metadata": {},
          "execution_count": 4
        }
      ],
      "source": [
        "device = 'cuda' if torch.cuda.is_available() else 'cpu'\n",
        "torch.cuda.is_available()"
      ]
    },
    {
      "cell_type": "code",
      "execution_count": null,
      "metadata": {
        "id": "QkxAHz4yRxkF"
      },
      "outputs": [],
      "source": [
        "class Convblock(nn.Module):\n",
        "\n",
        "      def __init__(self,input_channel,output_channel,kernel=3,stride=1,padding=1):\n",
        "\n",
        "        super().__init__()\n",
        "        self.convblock = nn.Sequential(\n",
        "            nn.Conv2d(input_channel,output_channel,kernel,stride,padding),\n",
        "            nn.BatchNorm2d(output_channel),\n",
        "            nn.ReLU(inplace=True),\n",
        "            nn.Conv2d(output_channel,output_channel,kernel),\n",
        "            nn.ReLU(inplace=True),\n",
        "        )\n",
        "\n",
        "      def forward(self,x):\n",
        "        x = self.convblock(x)\n",
        "        return x"
      ]
    },
    {
      "cell_type": "code",
      "execution_count": null,
      "metadata": {
        "id": "1A-0afzjRyVy"
      },
      "outputs": [],
      "source": [
        "class DirectUNet(nn.Module):\n",
        "\n",
        "    def __init__(self,input_channel,retain=True):\n",
        "\n",
        "        super().__init__()\n",
        "\n",
        "        self.conv1 = Convblock(input_channel,32)\n",
        "        self.conv2 = Convblock(32,64)\n",
        "        self.conv3 = Convblock(64,128)\n",
        "        # next 4 lines are bottom layer\n",
        "        #self.conv4 = Convblock(128,256)\n",
        "        #self.neck = nn.Conv2d(256,512,3,1)\n",
        "        #self.upconv4 = nn.ConvTranspose2d(512,256,3,2,0,1)\n",
        "        #self.dconv4 = Convblock(512,256)\n",
        "        # begin replace here\n",
        "        self.neck = nn.Conv2d(128, 256, 3, 1)\n",
        "        self.upconv3 = nn.ConvTranspose2d(256,128,3,2,0,1)\n",
        "        self.dconv3 = Convblock(256,128)\n",
        "        self.upconv2 = nn.ConvTranspose2d(128,64,3,2,0,1)\n",
        "        self.dconv2 = Convblock(128,64)\n",
        "        self.upconv1 = nn.ConvTranspose2d(64,32,3,2,0,1)\n",
        "        self.dconv1 = Convblock(64,32)\n",
        "        self.out = nn.Conv2d(32,3,1,1)\n",
        "        self.retain = retain\n",
        "\n",
        "    def forward(self,x):\n",
        "\n",
        "        # Encoder Network\n",
        "\n",
        "        # Conv down 1\n",
        "        conv1 = self.conv1(x)\n",
        "        pool1 = F.max_pool2d(conv1,kernel_size=2,stride=2)\n",
        "        # Conv down 2\n",
        "        conv2 = self.conv2(pool1)\n",
        "        pool2 = F.max_pool2d(conv2,kernel_size=2,stride=2)\n",
        "        # Conv down 3\n",
        "        conv3 = self.conv3(pool2)\n",
        "        pool3 = F.max_pool2d(conv3,kernel_size=2,stride=2)\n",
        "        # Conv down 4 (removed)\n",
        "        # conv4 = self.conv4(pool3)\n",
        "        # pool4 = F.max_pool2d(conv4,kernel_size=2,stride=2)\n",
        "\n",
        "        # BottelNeck\n",
        "        neck = self.neck(pool3) #cb to pool 4 if layer 4 left in\n",
        "\n",
        "        # Decoder Network\n",
        "\n",
        "        # Upconv 1 again removed\n",
        "        # upconv4 = self.upconv4(neck)\n",
        "        # croped = self.crop(conv4,upconv4)\n",
        "        # # Making the skip connection 1\n",
        "        # dconv4 = self.dconv4(torch.cat([upconv4,croped],1))\n",
        "        # Upconv 2\n",
        "        upconv3 = self.upconv3(neck) # replace to dconv 4 if unskip\n",
        "        croped = self.crop(conv3,upconv3)\n",
        "        # Making the skip connection 2\n",
        "        dconv3 = self.dconv3(torch.cat([upconv3,croped],1))\n",
        "        # Upconv 3\n",
        "        upconv2 = self.upconv2(dconv3)\n",
        "        croped = self.crop(conv2,upconv2)\n",
        "        # Making the skip connection 3\n",
        "        dconv2 = self.dconv2(torch.cat([upconv2,croped],1))\n",
        "        # Upconv 4\n",
        "        upconv1 = self.upconv1(dconv2)\n",
        "        croped = self.crop(conv1,upconv1)\n",
        "        # Making the skip connection 4\n",
        "        dconv1 = self.dconv1(torch.cat([upconv1,croped],1))\n",
        "        # Output Layer\n",
        "        out = self.out(dconv1)\n",
        "\n",
        "        if self.retain == True:\n",
        "            out = F.interpolate(out,list(x.shape)[2:])\n",
        "\n",
        "        return out\n",
        "\n",
        "    def crop(self,input_tensor,target_tensor):\n",
        "        # Crops for border kernels\n",
        "        _,_,H,W = target_tensor.shape\n",
        "        return transform.CenterCrop([H,W])(input_tensor)"
      ]
    },
    {
      "cell_type": "code",
      "execution_count": null,
      "metadata": {
        "colab": {
          "base_uri": "https://localhost:8080/"
        },
        "id": "yrhstbVHR3gN",
        "outputId": "f2ad9ba1-1b11-411c-bf3c-4784025a15d5"
      },
      "outputs": [
        {
          "output_type": "stream",
          "name": "stdout",
          "text": [
            "----------------------------------------------------------------\n",
            "        Layer (type)               Output Shape         Param #\n",
            "================================================================\n",
            "            Conv2d-1         [-1, 32, 256, 256]             896\n",
            "       BatchNorm2d-2         [-1, 32, 256, 256]              64\n",
            "              ReLU-3         [-1, 32, 256, 256]               0\n",
            "            Conv2d-4         [-1, 32, 254, 254]           9,248\n",
            "              ReLU-5         [-1, 32, 254, 254]               0\n",
            "         Convblock-6         [-1, 32, 254, 254]               0\n",
            "            Conv2d-7         [-1, 64, 127, 127]          18,496\n",
            "       BatchNorm2d-8         [-1, 64, 127, 127]             128\n",
            "              ReLU-9         [-1, 64, 127, 127]               0\n",
            "           Conv2d-10         [-1, 64, 125, 125]          36,928\n",
            "             ReLU-11         [-1, 64, 125, 125]               0\n",
            "        Convblock-12         [-1, 64, 125, 125]               0\n",
            "           Conv2d-13          [-1, 128, 62, 62]          73,856\n",
            "      BatchNorm2d-14          [-1, 128, 62, 62]             256\n",
            "             ReLU-15          [-1, 128, 62, 62]               0\n",
            "           Conv2d-16          [-1, 128, 60, 60]         147,584\n",
            "             ReLU-17          [-1, 128, 60, 60]               0\n",
            "        Convblock-18          [-1, 128, 60, 60]               0\n",
            "           Conv2d-19          [-1, 256, 28, 28]         295,168\n",
            "  ConvTranspose2d-20          [-1, 128, 58, 58]         295,040\n",
            "           Conv2d-21          [-1, 128, 58, 58]         295,040\n",
            "      BatchNorm2d-22          [-1, 128, 58, 58]             256\n",
            "             ReLU-23          [-1, 128, 58, 58]               0\n",
            "           Conv2d-24          [-1, 128, 56, 56]         147,584\n",
            "             ReLU-25          [-1, 128, 56, 56]               0\n",
            "        Convblock-26          [-1, 128, 56, 56]               0\n",
            "  ConvTranspose2d-27         [-1, 64, 114, 114]          73,792\n",
            "           Conv2d-28         [-1, 64, 114, 114]          73,792\n",
            "      BatchNorm2d-29         [-1, 64, 114, 114]             128\n",
            "             ReLU-30         [-1, 64, 114, 114]               0\n",
            "           Conv2d-31         [-1, 64, 112, 112]          36,928\n",
            "             ReLU-32         [-1, 64, 112, 112]               0\n",
            "        Convblock-33         [-1, 64, 112, 112]               0\n",
            "  ConvTranspose2d-34         [-1, 32, 226, 226]          18,464\n",
            "           Conv2d-35         [-1, 32, 226, 226]          18,464\n",
            "      BatchNorm2d-36         [-1, 32, 226, 226]              64\n",
            "             ReLU-37         [-1, 32, 226, 226]               0\n",
            "           Conv2d-38         [-1, 32, 224, 224]           9,248\n",
            "             ReLU-39         [-1, 32, 224, 224]               0\n",
            "        Convblock-40         [-1, 32, 224, 224]               0\n",
            "           Conv2d-41          [-1, 3, 224, 224]              99\n",
            "================================================================\n",
            "Total params: 1,551,523\n",
            "Trainable params: 1,551,523\n",
            "Non-trainable params: 0\n",
            "----------------------------------------------------------------\n",
            "Input size (MB): 0.75\n",
            "Forward/backward pass size (MB): 318.97\n",
            "Params size (MB): 5.92\n",
            "Estimated Total Size (MB): 325.64\n",
            "----------------------------------------------------------------\n"
          ]
        }
      ],
      "source": [
        "model = DirectUNet(3).float().to(device)\n",
        "\n",
        "from torchsummary import summary\n",
        "summary(model, (3,256,256))\n",
        "\n",
        "epochs = 5\n",
        "\n",
        "loss_func = nn.MSELoss()\n",
        "optimizer = torch.optim.Adam(model.parameters(), lr=0.01)\n",
        "\n",
        "train_acc = []\n",
        "val_acc = []\n",
        "train_loss = []\n",
        "val_loss = []"
      ]
    },
    {
      "cell_type": "code",
      "execution_count": null,
      "metadata": {
        "colab": {
          "base_uri": "https://localhost:8080/",
          "height": 391
        },
        "id": "G1qMztyhR69Z",
        "outputId": "41eb80d8-e130-468a-8297-2d919f62a0e6"
      },
      "outputs": [
        {
          "output_type": "stream",
          "name": "stderr",
          "text": [
            "100%|██████████| 93/93 [02:11<00:00,  1.41s/it]\n",
            " 69%|██████▉   | 347/500 [04:31<01:59,  1.28it/s]\n"
          ]
        },
        {
          "output_type": "error",
          "ename": "KeyboardInterrupt",
          "evalue": "",
          "traceback": [
            "\u001b[0;31m---------------------------------------------------------------------------\u001b[0m",
            "\u001b[0;31mKeyboardInterrupt\u001b[0m                         Traceback (most recent call last)",
            "\u001b[0;32m<ipython-input-8-f16e86320d33>\u001b[0m in \u001b[0;36m<cell line: 1>\u001b[0;34m()\u001b[0m\n\u001b[1;32m     17\u001b[0m     \u001b[0mtrain_loss\u001b[0m\u001b[0;34m.\u001b[0m\u001b[0mappend\u001b[0m\u001b[0;34m(\u001b[0m\u001b[0mtrainloss\u001b[0m\u001b[0;34m/\u001b[0m\u001b[0mlen\u001b[0m\u001b[0;34m(\u001b[0m\u001b[0mdataloader\u001b[0m\u001b[0;34m)\u001b[0m\u001b[0;34m)\u001b[0m\u001b[0;34m\u001b[0m\u001b[0;34m\u001b[0m\u001b[0m\n\u001b[1;32m     18\u001b[0m \u001b[0;34m\u001b[0m\u001b[0m\n\u001b[0;32m---> 19\u001b[0;31m     \u001b[0;32mfor\u001b[0m \u001b[0mimg\u001b[0m\u001b[0;34m,\u001b[0m\u001b[0mlabel\u001b[0m \u001b[0;32min\u001b[0m \u001b[0mtqdm\u001b[0m\u001b[0;34m(\u001b[0m\u001b[0mvalloader\u001b[0m\u001b[0;34m)\u001b[0m\u001b[0;34m:\u001b[0m\u001b[0;34m\u001b[0m\u001b[0;34m\u001b[0m\u001b[0m\n\u001b[0m\u001b[1;32m     20\u001b[0m         \u001b[0mimg\u001b[0m \u001b[0;34m=\u001b[0m \u001b[0mimg\u001b[0m\u001b[0;34m.\u001b[0m\u001b[0mto\u001b[0m\u001b[0;34m(\u001b[0m\u001b[0mdevice\u001b[0m\u001b[0;34m)\u001b[0m\u001b[0;34m\u001b[0m\u001b[0;34m\u001b[0m\u001b[0m\n\u001b[1;32m     21\u001b[0m         \u001b[0mlabel\u001b[0m \u001b[0;34m=\u001b[0m \u001b[0mlabel\u001b[0m\u001b[0;34m.\u001b[0m\u001b[0mto\u001b[0m\u001b[0;34m(\u001b[0m\u001b[0mdevice\u001b[0m\u001b[0;34m)\u001b[0m\u001b[0;34m\u001b[0m\u001b[0;34m\u001b[0m\u001b[0m\n",
            "\u001b[0;32m/usr/local/lib/python3.10/dist-packages/tqdm/std.py\u001b[0m in \u001b[0;36m__iter__\u001b[0;34m(self)\u001b[0m\n\u001b[1;32m   1179\u001b[0m \u001b[0;34m\u001b[0m\u001b[0m\n\u001b[1;32m   1180\u001b[0m         \u001b[0;32mtry\u001b[0m\u001b[0;34m:\u001b[0m\u001b[0;34m\u001b[0m\u001b[0;34m\u001b[0m\u001b[0m\n\u001b[0;32m-> 1181\u001b[0;31m             \u001b[0;32mfor\u001b[0m \u001b[0mobj\u001b[0m \u001b[0;32min\u001b[0m \u001b[0miterable\u001b[0m\u001b[0;34m:\u001b[0m\u001b[0;34m\u001b[0m\u001b[0;34m\u001b[0m\u001b[0m\n\u001b[0m\u001b[1;32m   1182\u001b[0m                 \u001b[0;32myield\u001b[0m \u001b[0mobj\u001b[0m\u001b[0;34m\u001b[0m\u001b[0;34m\u001b[0m\u001b[0m\n\u001b[1;32m   1183\u001b[0m                 \u001b[0;31m# Update and possibly print the progressbar.\u001b[0m\u001b[0;34m\u001b[0m\u001b[0;34m\u001b[0m\u001b[0m\n",
            "\u001b[0;32m/usr/local/lib/python3.10/dist-packages/torch/utils/data/dataloader.py\u001b[0m in \u001b[0;36m__next__\u001b[0;34m(self)\u001b[0m\n\u001b[1;32m    629\u001b[0m                 \u001b[0;31m# TODO(https://github.com/pytorch/pytorch/issues/76750)\u001b[0m\u001b[0;34m\u001b[0m\u001b[0;34m\u001b[0m\u001b[0m\n\u001b[1;32m    630\u001b[0m                 \u001b[0mself\u001b[0m\u001b[0;34m.\u001b[0m\u001b[0m_reset\u001b[0m\u001b[0;34m(\u001b[0m\u001b[0;34m)\u001b[0m  \u001b[0;31m# type: ignore[call-arg]\u001b[0m\u001b[0;34m\u001b[0m\u001b[0;34m\u001b[0m\u001b[0m\n\u001b[0;32m--> 631\u001b[0;31m             \u001b[0mdata\u001b[0m \u001b[0;34m=\u001b[0m \u001b[0mself\u001b[0m\u001b[0;34m.\u001b[0m\u001b[0m_next_data\u001b[0m\u001b[0;34m(\u001b[0m\u001b[0;34m)\u001b[0m\u001b[0;34m\u001b[0m\u001b[0;34m\u001b[0m\u001b[0m\n\u001b[0m\u001b[1;32m    632\u001b[0m             \u001b[0mself\u001b[0m\u001b[0;34m.\u001b[0m\u001b[0m_num_yielded\u001b[0m \u001b[0;34m+=\u001b[0m \u001b[0;36m1\u001b[0m\u001b[0;34m\u001b[0m\u001b[0;34m\u001b[0m\u001b[0m\n\u001b[1;32m    633\u001b[0m             \u001b[0;32mif\u001b[0m \u001b[0mself\u001b[0m\u001b[0;34m.\u001b[0m\u001b[0m_dataset_kind\u001b[0m \u001b[0;34m==\u001b[0m \u001b[0m_DatasetKind\u001b[0m\u001b[0;34m.\u001b[0m\u001b[0mIterable\u001b[0m \u001b[0;32mand\u001b[0m\u001b[0;31m \u001b[0m\u001b[0;31m\\\u001b[0m\u001b[0;34m\u001b[0m\u001b[0;34m\u001b[0m\u001b[0m\n",
            "\u001b[0;32m/usr/local/lib/python3.10/dist-packages/torch/utils/data/dataloader.py\u001b[0m in \u001b[0;36m_next_data\u001b[0;34m(self)\u001b[0m\n\u001b[1;32m    673\u001b[0m     \u001b[0;32mdef\u001b[0m \u001b[0m_next_data\u001b[0m\u001b[0;34m(\u001b[0m\u001b[0mself\u001b[0m\u001b[0;34m)\u001b[0m\u001b[0;34m:\u001b[0m\u001b[0;34m\u001b[0m\u001b[0;34m\u001b[0m\u001b[0m\n\u001b[1;32m    674\u001b[0m         \u001b[0mindex\u001b[0m \u001b[0;34m=\u001b[0m \u001b[0mself\u001b[0m\u001b[0;34m.\u001b[0m\u001b[0m_next_index\u001b[0m\u001b[0;34m(\u001b[0m\u001b[0;34m)\u001b[0m  \u001b[0;31m# may raise StopIteration\u001b[0m\u001b[0;34m\u001b[0m\u001b[0;34m\u001b[0m\u001b[0m\n\u001b[0;32m--> 675\u001b[0;31m         \u001b[0mdata\u001b[0m \u001b[0;34m=\u001b[0m \u001b[0mself\u001b[0m\u001b[0;34m.\u001b[0m\u001b[0m_dataset_fetcher\u001b[0m\u001b[0;34m.\u001b[0m\u001b[0mfetch\u001b[0m\u001b[0;34m(\u001b[0m\u001b[0mindex\u001b[0m\u001b[0;34m)\u001b[0m  \u001b[0;31m# may raise StopIteration\u001b[0m\u001b[0;34m\u001b[0m\u001b[0;34m\u001b[0m\u001b[0m\n\u001b[0m\u001b[1;32m    676\u001b[0m         \u001b[0;32mif\u001b[0m \u001b[0mself\u001b[0m\u001b[0;34m.\u001b[0m\u001b[0m_pin_memory\u001b[0m\u001b[0;34m:\u001b[0m\u001b[0;34m\u001b[0m\u001b[0;34m\u001b[0m\u001b[0m\n\u001b[1;32m    677\u001b[0m             \u001b[0mdata\u001b[0m \u001b[0;34m=\u001b[0m \u001b[0m_utils\u001b[0m\u001b[0;34m.\u001b[0m\u001b[0mpin_memory\u001b[0m\u001b[0;34m.\u001b[0m\u001b[0mpin_memory\u001b[0m\u001b[0;34m(\u001b[0m\u001b[0mdata\u001b[0m\u001b[0;34m,\u001b[0m \u001b[0mself\u001b[0m\u001b[0;34m.\u001b[0m\u001b[0m_pin_memory_device\u001b[0m\u001b[0;34m)\u001b[0m\u001b[0;34m\u001b[0m\u001b[0;34m\u001b[0m\u001b[0m\n",
            "\u001b[0;32m/usr/local/lib/python3.10/dist-packages/torch/utils/data/_utils/fetch.py\u001b[0m in \u001b[0;36mfetch\u001b[0;34m(self, possibly_batched_index)\u001b[0m\n\u001b[1;32m     49\u001b[0m                 \u001b[0mdata\u001b[0m \u001b[0;34m=\u001b[0m \u001b[0mself\u001b[0m\u001b[0;34m.\u001b[0m\u001b[0mdataset\u001b[0m\u001b[0;34m.\u001b[0m\u001b[0m__getitems__\u001b[0m\u001b[0;34m(\u001b[0m\u001b[0mpossibly_batched_index\u001b[0m\u001b[0;34m)\u001b[0m\u001b[0;34m\u001b[0m\u001b[0;34m\u001b[0m\u001b[0m\n\u001b[1;32m     50\u001b[0m             \u001b[0;32melse\u001b[0m\u001b[0;34m:\u001b[0m\u001b[0;34m\u001b[0m\u001b[0;34m\u001b[0m\u001b[0m\n\u001b[0;32m---> 51\u001b[0;31m                 \u001b[0mdata\u001b[0m \u001b[0;34m=\u001b[0m \u001b[0;34m[\u001b[0m\u001b[0mself\u001b[0m\u001b[0;34m.\u001b[0m\u001b[0mdataset\u001b[0m\u001b[0;34m[\u001b[0m\u001b[0midx\u001b[0m\u001b[0;34m]\u001b[0m \u001b[0;32mfor\u001b[0m \u001b[0midx\u001b[0m \u001b[0;32min\u001b[0m \u001b[0mpossibly_batched_index\u001b[0m\u001b[0;34m]\u001b[0m\u001b[0;34m\u001b[0m\u001b[0;34m\u001b[0m\u001b[0m\n\u001b[0m\u001b[1;32m     52\u001b[0m         \u001b[0;32melse\u001b[0m\u001b[0;34m:\u001b[0m\u001b[0;34m\u001b[0m\u001b[0;34m\u001b[0m\u001b[0m\n\u001b[1;32m     53\u001b[0m             \u001b[0mdata\u001b[0m \u001b[0;34m=\u001b[0m \u001b[0mself\u001b[0m\u001b[0;34m.\u001b[0m\u001b[0mdataset\u001b[0m\u001b[0;34m[\u001b[0m\u001b[0mpossibly_batched_index\u001b[0m\u001b[0;34m]\u001b[0m\u001b[0;34m\u001b[0m\u001b[0;34m\u001b[0m\u001b[0m\n",
            "\u001b[0;32m/usr/local/lib/python3.10/dist-packages/torch/utils/data/_utils/fetch.py\u001b[0m in \u001b[0;36m<listcomp>\u001b[0;34m(.0)\u001b[0m\n\u001b[1;32m     49\u001b[0m                 \u001b[0mdata\u001b[0m \u001b[0;34m=\u001b[0m \u001b[0mself\u001b[0m\u001b[0;34m.\u001b[0m\u001b[0mdataset\u001b[0m\u001b[0;34m.\u001b[0m\u001b[0m__getitems__\u001b[0m\u001b[0;34m(\u001b[0m\u001b[0mpossibly_batched_index\u001b[0m\u001b[0;34m)\u001b[0m\u001b[0;34m\u001b[0m\u001b[0;34m\u001b[0m\u001b[0m\n\u001b[1;32m     50\u001b[0m             \u001b[0;32melse\u001b[0m\u001b[0;34m:\u001b[0m\u001b[0;34m\u001b[0m\u001b[0;34m\u001b[0m\u001b[0m\n\u001b[0;32m---> 51\u001b[0;31m                 \u001b[0mdata\u001b[0m \u001b[0;34m=\u001b[0m \u001b[0;34m[\u001b[0m\u001b[0mself\u001b[0m\u001b[0;34m.\u001b[0m\u001b[0mdataset\u001b[0m\u001b[0;34m[\u001b[0m\u001b[0midx\u001b[0m\u001b[0;34m]\u001b[0m \u001b[0;32mfor\u001b[0m \u001b[0midx\u001b[0m \u001b[0;32min\u001b[0m \u001b[0mpossibly_batched_index\u001b[0m\u001b[0;34m]\u001b[0m\u001b[0;34m\u001b[0m\u001b[0;34m\u001b[0m\u001b[0m\n\u001b[0m\u001b[1;32m     52\u001b[0m         \u001b[0;32melse\u001b[0m\u001b[0;34m:\u001b[0m\u001b[0;34m\u001b[0m\u001b[0;34m\u001b[0m\u001b[0m\n\u001b[1;32m     53\u001b[0m             \u001b[0mdata\u001b[0m \u001b[0;34m=\u001b[0m \u001b[0mself\u001b[0m\u001b[0;34m.\u001b[0m\u001b[0mdataset\u001b[0m\u001b[0;34m[\u001b[0m\u001b[0mpossibly_batched_index\u001b[0m\u001b[0;34m]\u001b[0m\u001b[0;34m\u001b[0m\u001b[0;34m\u001b[0m\u001b[0m\n",
            "\u001b[0;32m<ipython-input-1-ef4921beb5ea>\u001b[0m in \u001b[0;36m__getitem__\u001b[0;34m(self, idx)\u001b[0m\n\u001b[1;32m     27\u001b[0m \u001b[0;34m\u001b[0m\u001b[0m\n\u001b[1;32m     28\u001b[0m     \u001b[0;32mdef\u001b[0m \u001b[0m__getitem__\u001b[0m\u001b[0;34m(\u001b[0m\u001b[0mself\u001b[0m\u001b[0;34m,\u001b[0m \u001b[0midx\u001b[0m\u001b[0;34m)\u001b[0m\u001b[0;34m:\u001b[0m\u001b[0;34m\u001b[0m\u001b[0;34m\u001b[0m\u001b[0m\n\u001b[0;32m---> 29\u001b[0;31m         \u001b[0mimg_mask\u001b[0m \u001b[0;34m=\u001b[0m \u001b[0mImage\u001b[0m\u001b[0;34m.\u001b[0m\u001b[0mopen\u001b[0m\u001b[0;34m(\u001b[0m\u001b[0mos\u001b[0m\u001b[0;34m.\u001b[0m\u001b[0mpath\u001b[0m\u001b[0;34m.\u001b[0m\u001b[0mjoin\u001b[0m\u001b[0;34m(\u001b[0m\u001b[0mself\u001b[0m\u001b[0;34m.\u001b[0m\u001b[0mimage_dir\u001b[0m\u001b[0;34m,\u001b[0m \u001b[0mself\u001b[0m\u001b[0;34m.\u001b[0m\u001b[0mimgs\u001b[0m\u001b[0;34m[\u001b[0m\u001b[0midx\u001b[0m\u001b[0;34m]\u001b[0m\u001b[0;34m)\u001b[0m\u001b[0;34m)\u001b[0m\u001b[0;34m\u001b[0m\u001b[0;34m\u001b[0m\u001b[0m\n\u001b[0m\u001b[1;32m     30\u001b[0m         \u001b[0;32mif\u001b[0m \u001b[0mself\u001b[0m\u001b[0;34m.\u001b[0m\u001b[0mcut_half\u001b[0m\u001b[0;34m:\u001b[0m\u001b[0;34m\u001b[0m\u001b[0;34m\u001b[0m\u001b[0m\n\u001b[1;32m     31\u001b[0m             \u001b[0mx_width\u001b[0m\u001b[0;34m,\u001b[0m \u001b[0my_height\u001b[0m \u001b[0;34m=\u001b[0m \u001b[0mimg_mask\u001b[0m\u001b[0;34m.\u001b[0m\u001b[0msize\u001b[0m\u001b[0;34m\u001b[0m\u001b[0;34m\u001b[0m\u001b[0m\n",
            "\u001b[0;32m/usr/local/lib/python3.10/dist-packages/PIL/Image.py\u001b[0m in \u001b[0;36mopen\u001b[0;34m(fp, mode, formats)\u001b[0m\n\u001b[1;32m   3234\u001b[0m         \u001b[0mexclusive_fp\u001b[0m \u001b[0;34m=\u001b[0m \u001b[0;32mTrue\u001b[0m\u001b[0;34m\u001b[0m\u001b[0;34m\u001b[0m\u001b[0m\n\u001b[1;32m   3235\u001b[0m \u001b[0;34m\u001b[0m\u001b[0m\n\u001b[0;32m-> 3236\u001b[0;31m     \u001b[0mprefix\u001b[0m \u001b[0;34m=\u001b[0m \u001b[0mfp\u001b[0m\u001b[0;34m.\u001b[0m\u001b[0mread\u001b[0m\u001b[0;34m(\u001b[0m\u001b[0;36m16\u001b[0m\u001b[0;34m)\u001b[0m\u001b[0;34m\u001b[0m\u001b[0;34m\u001b[0m\u001b[0m\n\u001b[0m\u001b[1;32m   3237\u001b[0m \u001b[0;34m\u001b[0m\u001b[0m\n\u001b[1;32m   3238\u001b[0m     \u001b[0mpreinit\u001b[0m\u001b[0;34m(\u001b[0m\u001b[0;34m)\u001b[0m\u001b[0;34m\u001b[0m\u001b[0;34m\u001b[0m\u001b[0m\n",
            "\u001b[0;31mKeyboardInterrupt\u001b[0m: "
          ]
        }
      ],
      "source": [
        "for i in range(epochs):\n",
        "\n",
        "    trainloss = 0\n",
        "    valloss = 0\n",
        "\n",
        "    for img,label in tqdm(dataloader):\n",
        "        #print(\"new image\")\n",
        "        optimizer.zero_grad()\n",
        "        img = img.to(device)\n",
        "        label = label.to(device)\n",
        "        output = model(img)\n",
        "        loss = loss_func(output,label)\n",
        "        loss.backward()\n",
        "        optimizer.step()\n",
        "        trainloss+=loss.item()\n",
        "\n",
        "    train_loss.append(trainloss/len(dataloader))\n",
        "\n",
        "    for img,label in tqdm(valloader):\n",
        "        img = img.to(device)\n",
        "        label = label.to(device)\n",
        "        output = model(img)\n",
        "        loss = loss_func(output,label)\n",
        "        valloss+=loss.item()\n",
        "\n",
        "    val_loss.append(valloss/len(valloader))\n",
        "\n",
        "    print(\"epoch : {} ,train loss : {} ,valid loss : {} \".format(i,train_loss[-1],val_loss[-1]))"
      ]
    }
  ],
  "metadata": {
    "colab": {
      "provenance": [],
      "gpuType": "T4"
    },
    "kernelspec": {
      "display_name": "Python 3",
      "name": "python3"
    },
    "language_info": {
      "name": "python"
    },
    "accelerator": "GPU"
  },
  "nbformat": 4,
  "nbformat_minor": 0
}